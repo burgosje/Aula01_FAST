{
  "nbformat": 4,
  "nbformat_minor": 0,
  "metadata": {
    "colab": {
      "provenance": [],
      "authorship_tag": "ABX9TyNvU6kjrmYEhk0gYygFhUJt",
      "include_colab_link": true
    },
    "kernelspec": {
      "name": "python3",
      "display_name": "Python 3"
    },
    "language_info": {
      "name": "python"
    }
  },
  "cells": [
    {
      "cell_type": "markdown",
      "metadata": {
        "id": "view-in-github",
        "colab_type": "text"
      },
      "source": [
        "<a href=\"https://colab.research.google.com/github/burgosje/Aula01_FAST/blob/main/Aula_1_FAST.ipynb\" target=\"_parent\"><img src=\"https://colab.research.google.com/assets/colab-badge.svg\" alt=\"Open In Colab\"/></a>"
      ]
    },
    {
      "cell_type": "markdown",
      "source": [
        "Aula 01 do FAST Transição do Cesar School"
      ],
      "metadata": {
        "id": "vAgYgNgyUGep"
      }
    },
    {
      "cell_type": "code",
      "execution_count": 1,
      "metadata": {
        "id": "_aOxBjpkfS3v",
        "colab": {
          "base_uri": "https://localhost:8080/"
        },
        "outputId": "dee13507-be8d-4bea-e04d-af5c337c416e"
      },
      "outputs": [
        {
          "output_type": "stream",
          "name": "stdout",
          "text": [
            "Digite seu nome: Jé\n",
            "Digite seu salário: 1000\n",
            "O professor Jé recebe R$ 1000.0\n",
            "O professor Jé recebe R$1000.0\n"
          ]
        }
      ],
      "source": [
        "idade = 12\n",
        "nome = input(\"Digite seu nome: \")\n",
        "salario = float(input(\"Digite seu salário: \"))\n",
        "\n",
        "print(\"O professor\", nome, \"recebe R$\", salario)\n",
        "print(f\"O professor {nome} recebe R${salario}\")\n"
      ]
    },
    {
      "cell_type": "code",
      "source": [
        "x = y = z = 0\n",
        "print (x, y, z)"
      ],
      "metadata": {
        "colab": {
          "base_uri": "https://localhost:8080/"
        },
        "id": "LQBliPNHhWFv",
        "outputId": "f9f45988-b1c0-46d3-d423-bfa70e7411b0"
      },
      "execution_count": null,
      "outputs": [
        {
          "output_type": "stream",
          "name": "stdout",
          "text": [
            "0 0 0\n"
          ]
        }
      ]
    },
    {
      "cell_type": "code",
      "source": [
        "a, b, c = 10, 15, 20\n",
        "print(a, b, c)"
      ],
      "metadata": {
        "colab": {
          "base_uri": "https://localhost:8080/"
        },
        "id": "DpBlM2cohrKB",
        "outputId": "29b8e63d-19d2-4dea-99f3-e96182dda2a0"
      },
      "execution_count": null,
      "outputs": [
        {
          "output_type": "stream",
          "name": "stdout",
          "text": [
            "10 15 20\n"
          ]
        }
      ]
    },
    {
      "cell_type": "code",
      "source": [
        "nome = input(\"Digite seu nome: \")\n",
        "salario_fixo = float(input(\"Digite seu sálario fixo: \"))\n",
        "total_de_aulas = int(input(\"Digite o total de aulas ministradas por mês: \"))\n",
        "\n",
        "print(f\"O professor {nome} recebe R${salario_fixo} e ministra {total_de_aulas} por mês\")"
      ],
      "metadata": {
        "colab": {
          "base_uri": "https://localhost:8080/"
        },
        "id": "UMJa9Htlh-L0",
        "outputId": "ea053cdd-9cd4-4d8e-bdb7-3f68e2a09b70"
      },
      "execution_count": null,
      "outputs": [
        {
          "output_type": "stream",
          "name": "stdout",
          "text": [
            "Digite seu nome: Jé\n",
            "Digite seu sálario fixo: 500.5\n",
            "Digite o total de aulas ministradas por mês: 20\n",
            "O professor Jé recebe R$500.5 e ministra 20 por mês\n"
          ]
        }
      ]
    },
    {
      "cell_type": "code",
      "source": [
        "print(3**3)\n",
        "print(5/2)\n",
        "print(5//2)\n",
        "print(5+2)"
      ],
      "metadata": {
        "colab": {
          "base_uri": "https://localhost:8080/"
        },
        "id": "XJXuwnDrl1ZW",
        "outputId": "8ecaa6a6-04ce-47e3-f882-b26bbf85c38a"
      },
      "execution_count": null,
      "outputs": [
        {
          "output_type": "stream",
          "name": "stdout",
          "text": [
            "27\n",
            "2.5\n",
            "2\n"
          ]
        }
      ]
    },
    {
      "cell_type": "code",
      "source": [
        "salario = float(input(\"Digite seu salário: \"))\n",
        "\n",
        "bonus = salario * 0.1\n",
        "\n",
        "print(f\"Seu salário inicial é: {salario}\")\n",
        "print(f\"Seu salário final é: {salario+bonus}\")\n",
        "print(f\"Seu bônus é: {bonus}\")"
      ],
      "metadata": {
        "colab": {
          "base_uri": "https://localhost:8080/"
        },
        "id": "byYcmRfNnhFS",
        "outputId": "e455233b-92cb-4b72-c9c1-01a295129d67"
      },
      "execution_count": null,
      "outputs": [
        {
          "output_type": "stream",
          "name": "stdout",
          "text": [
            "Digite seu salário: 500\n",
            "Seu salário inicial é: 500.0\n",
            "Seu salário final é: 550.0\n",
            "Seu bônus é: 50.0\n"
          ]
        }
      ]
    },
    {
      "cell_type": "code",
      "source": [
        "salario = float(input(\"Digite seu salário: \"))\n",
        "\n",
        "bonus = salario * 0.10\n",
        "salario_final = salario + bonus\n",
        "\n",
        "print(f\"Salário inicial R${salario:.2f}\\nSalário final R${salario_final:.2f}\\nBônus R${bonus}\")"
      ],
      "metadata": {
        "id": "wfNW8YX9qDVq",
        "colab": {
          "base_uri": "https://localhost:8080/"
        },
        "outputId": "e2f866d9-7f70-498c-a8b3-dde5a09b34e2"
      },
      "execution_count": 2,
      "outputs": [
        {
          "output_type": "stream",
          "name": "stdout",
          "text": [
            "Digite seu salário: 1000\n",
            "Salário inicial R$1000.00\n",
            "Salário final R$1100.00\n",
            "Bônus R$100.0\n"
          ]
        }
      ]
    },
    {
      "cell_type": "code",
      "source": [
        "idade = int(input(\"Digite sua idade: \"))\n",
        "\n",
        "print(\"O aluno é maior de idade?\", idade>=18)"
      ],
      "metadata": {
        "id": "JjzBJ4zPrPqM",
        "colab": {
          "base_uri": "https://localhost:8080/"
        },
        "outputId": "8facf8c0-3231-4610-91b6-3ce5c3f5d57d"
      },
      "execution_count": 3,
      "outputs": [
        {
          "output_type": "stream",
          "name": "stdout",
          "text": [
            "Digite sua idade: 20\n",
            "O aluno é maior de idade? True\n"
          ]
        }
      ]
    },
    {
      "cell_type": "code",
      "source": [
        "quant_carros = int(input(\"Digite quantos carros você vendeu neste mês: \"))\n",
        "vendas = float(input(\"Informe o valor total em vendas: \"))\n",
        "salario = float(input(\"Digite seu salário fixo mensal: \"))\n",
        "comissao = float(input(\"Informe a comissão por cada carro vendido: \"))\n",
        "\n",
        "salario_final = salario + (comissao*quant_carros) + (vendas*0.05)\n",
        "\n",
        "print(f\"Salário final R${salario_final:.2f}\")"
      ],
      "metadata": {
        "colab": {
          "base_uri": "https://localhost:8080/"
        },
        "id": "hHLi9QAeseqO",
        "outputId": "8cc8317c-a696-43f4-f5f3-c3d8524654f1"
      },
      "execution_count": 6,
      "outputs": [
        {
          "output_type": "stream",
          "name": "stdout",
          "text": [
            "Digite quantos carros você vendeu neste mês: 20\n",
            "Informe o valor total em vendas: 200000\n",
            "Digite seu salário fixo mensal: 5000\n",
            "Informe a comissão por cada carro vendido: 1000\n",
            "Salário final R$35000.00\n"
          ]
        }
      ]
    },
    {
      "cell_type": "code",
      "source": [
        "a = int(input(\"Digite o valor de A: \"))\n",
        "b = int(input(\"Digite o valor de B: \"))\n",
        "c = int(input(\"Digite o valor de C: \"))\n",
        "\n",
        "delta = b**2 - (4*a*c)\n",
        "\n",
        "print(f\"O valor de Delta é {delta}\")\n"
      ],
      "metadata": {
        "colab": {
          "base_uri": "https://localhost:8080/"
        },
        "id": "6G6cvlMMsFW2",
        "outputId": "f1ae53b1-fc79-4ff9-a37c-3f0921267018"
      },
      "execution_count": 7,
      "outputs": [
        {
          "output_type": "stream",
          "name": "stdout",
          "text": [
            "Digite o valor de A: 3\n",
            "Digite o valor de B: 4\n",
            "Digite o valor de C: 5\n",
            "O valor de Delta é -44\n"
          ]
        }
      ]
    },
    {
      "cell_type": "code",
      "source": [
        "largura = int(input(\"Digite a largura da parede: \"))\n",
        "altura = int(input(\"Digite a altura da parede: \"))\n",
        "\n",
        "area = largura * altura\n",
        "quant_tinta = area / 2\n",
        "\n",
        "print(f\"A quantidade necessária de tinta é: {quant_tinta} litros2\")"
      ],
      "metadata": {
        "colab": {
          "base_uri": "https://localhost:8080/"
        },
        "id": "MvPx_hLZ0O-U",
        "outputId": "00d4a05f-82b3-49d7-b962-06c128c384e4"
      },
      "execution_count": null,
      "outputs": [
        {
          "output_type": "stream",
          "name": "stdout",
          "text": [
            "Digite a largura da parede: 5\n",
            "Digite a altura da parede: 2\n",
            "A quantidade necessária de tinta é: 5.0 litros\n"
          ]
        }
      ]
    },
    {
      "cell_type": "markdown",
      "source": [
        "Desenvolva um programa que leia a largura e altura de uma parede, calcule e mostre a área a ser pintada e a quantidade de tinta necessária para o serviço, sabendo que cada litro de tinta pinta uma área de 2 metros quadrados (m²)."
      ],
      "metadata": {
        "id": "zRHF4T340yG-"
      }
    },
    {
      "cell_type": "code",
      "source": [
        "a = float(input(\"Digite o valor A \"))\n",
        "b = float(input(\"Digite o valor B \"))\n",
        "c = float(input(\"Digite o valor C \"))\n",
        "\n",
        "area_triangulo = a*c/2\n",
        "\n",
        "area_circulo = (3.14)*c**2\n",
        "\n",
        "area_trapezio = ((a + b) * c) / 2\n",
        "\n",
        "area_quadrado = b**2\n",
        "\n",
        "area_retangulo = a * b\n",
        "\n",
        "print(f\"A área do triângulo retâgulo é: {area_triangulo:.2f}\\nA área do círculo é: {area_circulo:.2f}\\nA área do trapézio é: {area_trapezio:.2f}\\nA area do quadro é: {area_quadrado:.2f}\\nA área do retâgulo é: {area_retangulo:.2f}\")"
      ],
      "metadata": {
        "colab": {
          "base_uri": "https://localhost:8080/"
        },
        "id": "1bMcOaUj1xYX",
        "outputId": "8be7144f-a41e-411d-dc9e-de6a435ae6d0"
      },
      "execution_count": null,
      "outputs": [
        {
          "output_type": "stream",
          "name": "stdout",
          "text": [
            "Digite o valor A 5\n",
            "Digite o valor B 4\n",
            "Digite o valor C 5\n",
            "A área do triângulo retâgulo é: 12.50\n",
            "A área do círculo é: 78.50\n",
            "A área do trapézio é: 22.50\n",
            "A area do quadro é: 16.00\n",
            "A área do retâgulo é: 20.00\n"
          ]
        }
      ]
    },
    {
      "cell_type": "code",
      "source": [
        "nome = input(\"Digite seu nome: \")\n",
        "distancia = float(input(\"Digite a distância que ele percorreu em km: \"))\n",
        "tempo = int(input(\"Digite o tempo que ele gastou nesse percurso em horas: \"))\n",
        "\n",
        "velocidade_km = distancia * tempo\n",
        "velocidade_m = (distancia * tempo) / 3.6\n",
        "\n",
        "print (f\"A velocidade é {velocidade_km}km/h e {velocidade_m:.2f}m/s\")"
      ],
      "metadata": {
        "colab": {
          "base_uri": "https://localhost:8080/"
        },
        "id": "A6lPuIkY7Yv6",
        "outputId": "76e1daa7-a76d-4dc1-93f4-6d6cb65138b0"
      },
      "execution_count": null,
      "outputs": [
        {
          "output_type": "stream",
          "name": "stdout",
          "text": [
            "Digite seu nome: Jé\n",
            "Digite a distância que ele percorreu em km: 10\n",
            "Digite o tempo que ele gastou nesse percurso em horas: 1\n",
            "A velocidade é 10.0km/h e 2.7777777777777777m/s\n"
          ]
        }
      ]
    },
    {
      "cell_type": "code",
      "source": [
        "quant_cigarros = int(input(\"Digite quantos cigarros você fuma por dia: \"))\n",
        "anos = int(input(\"Digite por quantos anos você fumou: \"))\n",
        "\n",
        "total_cigarros = anos * 365 * quant_cigarros\n",
        "minutos_perdidos = total_cigarros * 10\n",
        "dias_perdidos = int(minutos_perdidos / 1440)\n",
        "\n",
        "print(f\"Você perdeu {dias_perdidos} dias de vida\")\n",
        "\n"
      ],
      "metadata": {
        "colab": {
          "base_uri": "https://localhost:8080/"
        },
        "id": "6bt414wH-BYl",
        "outputId": "e3c2266d-0477-4512-a1b2-dff16a329ffd"
      },
      "execution_count": null,
      "outputs": [
        {
          "output_type": "stream",
          "name": "stdout",
          "text": [
            "Digite quantos cigarros você fuma por dia: 20\n",
            "Digite por quantos anos você fumou: 13\n",
            "Você perdeu 659 dias de vida\n"
          ]
        }
      ]
    },
    {
      "cell_type": "markdown",
      "source": [
        "Desenvolva um programa para calcular a redução do tempo de vida de um fumante. Pergunte a quantidade média de cigarros fumados por dia e por quantos anos ele já fumou. Considere que um fumante perde 10 min de vida a cada cigarro.  Calcule e exiba quantos dias de vida o fumante perdeu até o momento."
      ],
      "metadata": {
        "id": "qB3mw7-g-ERf"
      }
    },
    {
      "cell_type": "code",
      "source": [
        "mediaCigarros = float(input('Digite a quantidade média de cigarros consumidos no dia '))\n",
        "anos = int(input('Digite o número de anos que você fumou '))\n",
        "\n",
        "totalCigarros = anos * 365 * mediaCigarros\n",
        "minutosPerdidos = totalCigarros * 10\n",
        "diasPerdidos = int(minutosPerdidos / 1440)\n",
        "\n",
        "print(f'Você perdeu {diasPerdidos} dias da sua vida. ')"
      ],
      "metadata": {
        "id": "QXCzy4oj_7s2",
        "colab": {
          "base_uri": "https://localhost:8080/"
        },
        "outputId": "86939521-4b90-47c5-e51e-7aeb586ab237"
      },
      "execution_count": 10,
      "outputs": [
        {
          "output_type": "stream",
          "name": "stdout",
          "text": [
            "Digite a quantidade média de cigarros consumidos no dia 20\n",
            "Digite o número de anos que você fumou 13\n",
            "Você perdeu 659 dias da sua vida. \n"
          ]
        }
      ]
    }
  ]
}